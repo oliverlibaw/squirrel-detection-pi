{
 "cells": [
  {
   "cell_type": "code",
   "execution_count": 1,
   "id": "084617dd-8c98-441d-912a-58b9482951b3",
   "metadata": {},
   "outputs": [],
   "source": [
    "import degirum as dg\n"
   ]
  },
  {
   "cell_type": "code",
   "execution_count": 2,
   "id": "c7466d09-6d59-4634-8ca9-4444ead2c910",
   "metadata": {},
   "outputs": [],
   "source": [
    "inference_host_address = \"@local\"\n",
    "zoo_url = \"../models\"\n",
    "token = ''\n",
    "device_type = \"HAILORT/HAILO8L\"\n",
    "image = \"/home/pi5two/Downloads/squirrel_test.jpg\""
   ]
  },
  {
   "cell_type": "raw",
   "id": "e7864cbf-336a-41b4-bc84-aa1312d5daaa",
   "metadata": {},
   "source": [
    "\n"
   ]
  },
  {
   "cell_type": "code",
   "execution_count": 3,
   "id": "86ed6cb7-d5c0-4da5-8548-d017cdc81437",
   "metadata": {},
   "outputs": [
    {
     "ename": "DegirumException",
     "evalue": "could not get model by url. (cloud server response: 400 Client Error: Bad Request for url: https://hub.degirum.com/zoo/v1/public/models/degirum/public/squirrel_yolov11s--640x640_quant_hailort_multidevice_1/info)",
     "output_type": "error",
     "traceback": [
      "\u001b[31m---------------------------------------------------------------------------\u001b[39m",
      "\u001b[31mDegirumException\u001b[39m                          Traceback (most recent call last)",
      "\u001b[36mCell\u001b[39m\u001b[36m \u001b[39m\u001b[32mIn[3]\u001b[39m\u001b[32m, line 1\u001b[39m\n\u001b[32m----> \u001b[39m\u001b[32m1\u001b[39m model = \u001b[43mdg\u001b[49m\u001b[43m.\u001b[49m\u001b[43mload_model\u001b[49m\u001b[43m(\u001b[49m\n\u001b[32m      2\u001b[39m \u001b[43m    \u001b[49m\u001b[43mmodel_name\u001b[49m\u001b[43m \u001b[49m\u001b[43m=\u001b[49m\u001b[43m \u001b[49m\u001b[33;43m\"\u001b[39;49m\u001b[33;43msquirrel_yolov11s--640x640_quant_hailort_multidevice_1\u001b[39;49m\u001b[33;43m\"\u001b[39;49m\u001b[43m,\u001b[49m\n\u001b[32m      3\u001b[39m \u001b[43m    \u001b[49m\u001b[43minference_host_address\u001b[49m\u001b[43m=\u001b[49m\u001b[43minference_host_address\u001b[49m\n\u001b[32m      4\u001b[39m \u001b[43m    \u001b[49m\u001b[38;5;66;43;03m# optional parameters, such as output_confidence_threshold=0.5\u001b[39;49;00m\n\u001b[32m      5\u001b[39m \u001b[43m)\u001b[49m\n\u001b[32m      7\u001b[39m \u001b[38;5;66;03m# Perform AI model inference on your image\u001b[39;00m\n\u001b[32m      8\u001b[39m inference_result = model(your_image)\n",
      "\u001b[36mFile \u001b[39m\u001b[32m~/hailo_examples/degirum_env/lib/python3.11/site-packages/degirum/__init__.py:220\u001b[39m, in \u001b[36mload_model\u001b[39m\u001b[34m(model_name, inference_host_address, zoo_url, token, **kwargs)\u001b[39m\n\u001b[32m    196\u001b[39m \u001b[38;5;250m\u001b[39m\u001b[33;03m\"\"\"\u001b[39;00m\n\u001b[32m    197\u001b[39m \u001b[33;03mLoad a model from the model zoo for the inference.\u001b[39;00m\n\u001b[32m    198\u001b[39m \n\u001b[32m   (...)\u001b[39m\u001b[32m    217\u001b[39m \u001b[33;03m    An instance of [degirum.model.Model][] model handling object to be used for AI inferences.\u001b[39;00m\n\u001b[32m    218\u001b[39m \u001b[33;03m\"\"\"\u001b[39;00m\n\u001b[32m    219\u001b[39m zoo = ZooManager(inference_host_address, zoo_url, token)\n\u001b[32m--> \u001b[39m\u001b[32m220\u001b[39m \u001b[38;5;28;01mreturn\u001b[39;00m \u001b[43mzoo\u001b[49m\u001b[43m.\u001b[49m\u001b[43mload_model\u001b[49m\u001b[43m(\u001b[49m\u001b[43mmodel_name\u001b[49m\u001b[43m,\u001b[49m\u001b[43m \u001b[49m\u001b[43m*\u001b[49m\u001b[43m*\u001b[49m\u001b[43mkwargs\u001b[49m\u001b[43m)\u001b[49m\n",
      "\u001b[36mFile \u001b[39m\u001b[32m~/hailo_examples/degirum_env/lib/python3.11/site-packages/degirum/log.py:59\u001b[39m, in \u001b[36mlog_wrap.<locals>.wrap\u001b[39m\u001b[34m(*args, **kwargs)\u001b[39m\n\u001b[32m     57\u001b[39m \u001b[38;5;28;01mtry\u001b[39;00m:\n\u001b[32m     58\u001b[39m     logger.log(log_level, \u001b[33mf\u001b[39m\u001b[33m\"\u001b[39m\u001b[33m/ \u001b[39m\u001b[38;5;132;01m{\u001b[39;00mf.\u001b[34m__qualname__\u001b[39m\u001b[38;5;132;01m}\u001b[39;00m\u001b[33m\"\u001b[39m)\n\u001b[32m---> \u001b[39m\u001b[32m59\u001b[39m     \u001b[38;5;28;01mreturn\u001b[39;00m \u001b[43mf\u001b[49m\u001b[43m(\u001b[49m\u001b[43m*\u001b[49m\u001b[43margs\u001b[49m\u001b[43m,\u001b[49m\u001b[43m \u001b[49m\u001b[43m*\u001b[49m\u001b[43m*\u001b[49m\u001b[43mkwargs\u001b[49m\u001b[43m)\u001b[49m\n\u001b[32m     60\u001b[39m \u001b[38;5;28;01mfinally\u001b[39;00m:\n\u001b[32m     61\u001b[39m     t2 = time.time_ns()\n",
      "\u001b[36mFile \u001b[39m\u001b[32m~/hailo_examples/degirum_env/lib/python3.11/site-packages/degirum/zoo_manager.py:270\u001b[39m, in \u001b[36mZooManager.load_model\u001b[39m\u001b[34m(self, model_name, **kwargs)\u001b[39m\n\u001b[32m    208\u001b[39m \u001b[38;5;129m@log_wrap\u001b[39m\n\u001b[32m    209\u001b[39m \u001b[38;5;28;01mdef\u001b[39;00m\u001b[38;5;250m \u001b[39m\u001b[34mload_model\u001b[39m(\u001b[38;5;28mself\u001b[39m, model_name: \u001b[38;5;28mstr\u001b[39m, **kwargs) -> Model:\n\u001b[32m    210\u001b[39m \u001b[38;5;250m    \u001b[39m\u001b[33;03m\"\"\"Create and return the model handling object for given model name.\u001b[39;00m\n\u001b[32m    211\u001b[39m \n\u001b[32m    212\u001b[39m \u001b[33;03m    Args:\u001b[39;00m\n\u001b[32m   (...)\u001b[39m\u001b[32m    268\u001b[39m \n\u001b[32m    269\u001b[39m \u001b[33;03m    \"\"\"\u001b[39;00m\n\u001b[32m--> \u001b[39m\u001b[32m270\u001b[39m     model = \u001b[38;5;28;43mself\u001b[39;49m\u001b[43m.\u001b[49m\u001b[43m_zoo\u001b[49m\u001b[43m.\u001b[49m\u001b[43mload_model\u001b[49m\u001b[43m(\u001b[49m\u001b[43mmodel_name\u001b[49m\u001b[43m)\u001b[49m\n\u001b[32m    271\u001b[39m     \u001b[38;5;28;01mfor\u001b[39;00m key, value \u001b[38;5;129;01min\u001b[39;00m kwargs.items():\n\u001b[32m    272\u001b[39m         \u001b[38;5;28;01mif\u001b[39;00m \u001b[38;5;28mhasattr\u001b[39m(Model, key):\n",
      "\u001b[36mFile \u001b[39m\u001b[32m~/hailo_examples/degirum_env/lib/python3.11/site-packages/degirum/log.py:59\u001b[39m, in \u001b[36mlog_wrap.<locals>.wrap\u001b[39m\u001b[34m(*args, **kwargs)\u001b[39m\n\u001b[32m     57\u001b[39m \u001b[38;5;28;01mtry\u001b[39;00m:\n\u001b[32m     58\u001b[39m     logger.log(log_level, \u001b[33mf\u001b[39m\u001b[33m\"\u001b[39m\u001b[33m/ \u001b[39m\u001b[38;5;132;01m{\u001b[39;00mf.\u001b[34m__qualname__\u001b[39m\u001b[38;5;132;01m}\u001b[39;00m\u001b[33m\"\u001b[39m)\n\u001b[32m---> \u001b[39m\u001b[32m59\u001b[39m     \u001b[38;5;28;01mreturn\u001b[39;00m \u001b[43mf\u001b[49m\u001b[43m(\u001b[49m\u001b[43m*\u001b[49m\u001b[43margs\u001b[49m\u001b[43m,\u001b[49m\u001b[43m \u001b[49m\u001b[43m*\u001b[49m\u001b[43m*\u001b[49m\u001b[43mkwargs\u001b[49m\u001b[43m)\u001b[49m\n\u001b[32m     60\u001b[39m \u001b[38;5;28;01mfinally\u001b[39;00m:\n\u001b[32m     61\u001b[39m     t2 = time.time_ns()\n",
      "\u001b[36mFile \u001b[39m\u001b[32m~/hailo_examples/degirum_env/lib/python3.11/site-packages/degirum/_zoo_accessor.py:627\u001b[39m, in \u001b[36m_LocalHWCloudZooAccessor.load_model\u001b[39m\u001b[34m(self, model)\u001b[39m\n\u001b[32m    616\u001b[39m \u001b[38;5;129m@log_wrap\u001b[39m\n\u001b[32m    617\u001b[39m \u001b[38;5;28;01mdef\u001b[39;00m\u001b[38;5;250m \u001b[39m\u001b[34mload_model\u001b[39m(\u001b[38;5;28mself\u001b[39m, model: \u001b[38;5;28mstr\u001b[39m):\n\u001b[32m    618\u001b[39m \u001b[38;5;250m    \u001b[39m\u001b[33;03m\"\"\"Create model object for given model name.\u001b[39;00m\n\u001b[32m    619\u001b[39m \n\u001b[32m    620\u001b[39m \u001b[33;03m    Args:\u001b[39;00m\n\u001b[32m   (...)\u001b[39m\u001b[32m    624\u001b[39m \u001b[33;03m        model object corresponding to given model name\u001b[39;00m\n\u001b[32m    625\u001b[39m \u001b[33;03m    \"\"\"\u001b[39;00m\n\u001b[32m--> \u001b[39m\u001b[32m627\u001b[39m     assets = \u001b[38;5;28;43mself\u001b[39;49m\u001b[43m.\u001b[49m\u001b[43m_get_model_assets\u001b[49m\u001b[43m(\u001b[49m\u001b[43mmodel\u001b[49m\u001b[43m,\u001b[49m\u001b[43m \u001b[49m\u001b[38;5;28;43;01mTrue\u001b[39;49;00m\u001b[43m)\u001b[49m\n\u001b[32m    628\u001b[39m     model_params: ModelParams = copy.deepcopy(assets.model_params)\n\u001b[32m    629\u001b[39m     model_params.CloudModelName = \u001b[38;5;28mself\u001b[39m.ext_model_name(model)\n",
      "\u001b[36mFile \u001b[39m\u001b[32m~/hailo_examples/degirum_env/lib/python3.11/site-packages/degirum/_zoo_accessor.py:580\u001b[39m, in \u001b[36m_CloudZooAccessorBase._get_model_assets\u001b[39m\u001b[34m(self, model, get_labels)\u001b[39m\n\u001b[32m    577\u001b[39m assets = \u001b[38;5;28mself\u001b[39m._assets.get(model)\n\u001b[32m    579\u001b[39m \u001b[38;5;28;01mif\u001b[39;00m assets \u001b[38;5;129;01mis\u001b[39;00m \u001b[38;5;28;01mNone\u001b[39;00m \u001b[38;5;129;01mor\u001b[39;00m assets.model_params \u001b[38;5;129;01mis\u001b[39;00m \u001b[38;5;28;01mNone\u001b[39;00m:\n\u001b[32m--> \u001b[39m\u001b[32m580\u001b[39m     model_info = \u001b[38;5;28;43mself\u001b[39;49m\u001b[43m.\u001b[49m\u001b[43m_cloud_server_request\u001b[49m\u001b[43m(\u001b[49m\n\u001b[32m    581\u001b[39m \u001b[43m        \u001b[49m\u001b[33;43mf\u001b[39;49m\u001b[33;43m\"\u001b[39;49m\u001b[33;43m/zoo/v1/public/models\u001b[39;49m\u001b[38;5;132;43;01m{\u001b[39;49;00m\u001b[38;5;28;43mself\u001b[39;49m\u001b[43m.\u001b[49m\u001b[43m_zoo_url\u001b[49m\u001b[38;5;132;43;01m}\u001b[39;49;00m\u001b[33;43m/\u001b[39;49m\u001b[38;5;132;43;01m{\u001b[39;49;00m\u001b[43mmodel\u001b[49m\u001b[38;5;132;43;01m}\u001b[39;49;00m\u001b[33;43m/info\u001b[39;49m\u001b[33;43m\"\u001b[39;49m\n\u001b[32m    582\u001b[39m \u001b[43m    \u001b[49m\u001b[43m)\u001b[49m\n\u001b[32m    584\u001b[39m     assets = \u001b[38;5;28mself\u001b[39m._Assets(\n\u001b[32m    585\u001b[39m         ModelParams(json.dumps(model_info[\u001b[33m\"\u001b[39m\u001b[33mmodel_params\u001b[39m\u001b[33m\"\u001b[39m])),\n\u001b[32m    586\u001b[39m         Model._harmonize_label_dictionary(model_info[\u001b[33m\"\u001b[39m\u001b[33mmodel_labels\u001b[39m\u001b[33m\"\u001b[39m]),\n\u001b[32m    587\u001b[39m     )\n\u001b[32m    588\u001b[39m     \u001b[38;5;28mself\u001b[39m._assets[model] = assets\n",
      "\u001b[36mFile \u001b[39m\u001b[32m~/hailo_examples/degirum_env/lib/python3.11/site-packages/degirum/log.py:59\u001b[39m, in \u001b[36mlog_wrap.<locals>.wrap\u001b[39m\u001b[34m(*args, **kwargs)\u001b[39m\n\u001b[32m     57\u001b[39m \u001b[38;5;28;01mtry\u001b[39;00m:\n\u001b[32m     58\u001b[39m     logger.log(log_level, \u001b[33mf\u001b[39m\u001b[33m\"\u001b[39m\u001b[33m/ \u001b[39m\u001b[38;5;132;01m{\u001b[39;00mf.\u001b[34m__qualname__\u001b[39m\u001b[38;5;132;01m}\u001b[39;00m\u001b[33m\"\u001b[39m)\n\u001b[32m---> \u001b[39m\u001b[32m59\u001b[39m     \u001b[38;5;28;01mreturn\u001b[39;00m \u001b[43mf\u001b[49m\u001b[43m(\u001b[49m\u001b[43m*\u001b[49m\u001b[43margs\u001b[49m\u001b[43m,\u001b[49m\u001b[43m \u001b[49m\u001b[43m*\u001b[49m\u001b[43m*\u001b[49m\u001b[43mkwargs\u001b[49m\u001b[43m)\u001b[49m\n\u001b[32m     60\u001b[39m \u001b[38;5;28;01mfinally\u001b[39;00m:\n\u001b[32m     61\u001b[39m     t2 = time.time_ns()\n",
      "\u001b[36mFile \u001b[39m\u001b[32m~/hailo_examples/degirum_env/lib/python3.11/site-packages/degirum/_zoo_accessor.py:498\u001b[39m, in \u001b[36m_CloudZooAccessorBase._cloud_server_request\u001b[39m\u001b[34m(self, api_url, is_octet_stream)\u001b[39m\n\u001b[32m    496\u001b[39m     \u001b[38;5;28;01mexcept\u001b[39;00m json.JSONDecodeError:\n\u001b[32m    497\u001b[39m         \u001b[38;5;28;01mpass\u001b[39;00m\n\u001b[32m--> \u001b[39m\u001b[32m498\u001b[39m     \u001b[38;5;28;01mraise\u001b[39;00m DegirumException(details) \u001b[38;5;28;01mfrom\u001b[39;00m\u001b[38;5;250m \u001b[39m\u001b[38;5;28;01mNone\u001b[39;00m\n\u001b[32m    500\u001b[39m \u001b[38;5;66;03m# if we followed a redirect to https, update url\u001b[39;00m\n\u001b[32m    501\u001b[39m \u001b[38;5;28;01mif\u001b[39;00m (\n\u001b[32m    502\u001b[39m     \u001b[38;5;28mlen\u001b[39m(res.history) == \u001b[32m1\u001b[39m\n\u001b[32m    503\u001b[39m     \u001b[38;5;129;01mand\u001b[39;00m res.url.startswith(\u001b[33m\"\u001b[39m\u001b[33mhttps://\u001b[39m\u001b[33m\"\u001b[39m)\n\u001b[32m    504\u001b[39m     \u001b[38;5;129;01mand\u001b[39;00m \u001b[38;5;28mself\u001b[39m._url.startswith(\u001b[33m\"\u001b[39m\u001b[33mhttp://\u001b[39m\u001b[33m\"\u001b[39m)\n\u001b[32m    505\u001b[39m ):\n",
      "\u001b[31mDegirumException\u001b[39m: could not get model by url. (cloud server response: 400 Client Error: Bad Request for url: https://hub.degirum.com/zoo/v1/public/models/degirum/public/squirrel_yolov11s--640x640_quant_hailort_multidevice_1/info)"
     ]
    }
   ],
   "source": [
    "model = dg.load_model(\n",
    "    model_name = \"squirrel_yolov11s--640x640_quant_hailort_multidevice_1\",\n",
    "    inference_host_address=inference_host_address\n",
    "    # optional parameters, such as output_confidence_threshold=0.5\n",
    ")\n",
    "\n",
    "# Perform AI model inference on your image\n",
    "inference_result = model(your_image)\n",
    "\n",
    "# Print the inference result\n",
    "print(inference_result)"
   ]
  },
  {
   "cell_type": "code",
   "execution_count": null,
   "id": "4f835fed-e54b-4ccc-a08d-9337ec2e7ed4",
   "metadata": {},
   "outputs": [],
   "source": []
  }
 ],
 "metadata": {
  "kernelspec": {
   "display_name": "Python 3 (ipykernel)",
   "language": "python",
   "name": "python3"
  },
  "language_info": {
   "codemirror_mode": {
    "name": "ipython",
    "version": 3
   },
   "file_extension": ".py",
   "mimetype": "text/x-python",
   "name": "python",
   "nbconvert_exporter": "python",
   "pygments_lexer": "ipython3",
   "version": "3.11.2"
  }
 },
 "nbformat": 4,
 "nbformat_minor": 5
}
