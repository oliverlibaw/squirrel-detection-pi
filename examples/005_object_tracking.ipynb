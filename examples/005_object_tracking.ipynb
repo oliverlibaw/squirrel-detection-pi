{
 "cells": [
  {
   "cell_type": "markdown",
   "metadata": {},
   "source": [
    "### Object Tracking Sample\n",
    "This notebook is an example of how to perform object detection with DeGirum PySDK"
   ]
  },
  {
   "cell_type": "code",
   "execution_count": 4,
   "metadata": {},
   "outputs": [
    {
     "name": "stdout",
     "output_type": "stream",
     "text": [
      "starting Degirum script...\n",
      "Loading model\n"
     ]
    },
    {
     "ename": "DegirumException",
     "evalue": "Model 'squirrel_yolov11s--640x640_quant_hailort_multidevice_1' does not have any supported runtime/device combinations that will work on this system.",
     "output_type": "error",
     "traceback": [
      "\u001b[31m---------------------------------------------------------------------------\u001b[39m",
      "\u001b[31mDegirumException\u001b[39m                          Traceback (most recent call last)",
      "\u001b[36mCell\u001b[39m\u001b[36m \u001b[39m\u001b[32mIn[4]\u001b[39m\u001b[32m, line 28\u001b[39m\n\u001b[32m     25\u001b[39m \u001b[38;5;66;03m# load model\u001b[39;00m\n\u001b[32m     27\u001b[39m \u001b[38;5;28mprint\u001b[39m(\u001b[33mf\u001b[39m\u001b[33m\"\u001b[39m\u001b[33mLoading model\u001b[39m\u001b[33m\"\u001b[39m) \n\u001b[32m---> \u001b[39m\u001b[32m28\u001b[39m model = \u001b[43mdg\u001b[49m\u001b[43m.\u001b[49m\u001b[43mload_model\u001b[49m\u001b[43m(\u001b[49m\n\u001b[32m     29\u001b[39m \u001b[43m    \u001b[49m\u001b[43mmodel_name\u001b[49m\u001b[43m=\u001b[49m\u001b[43mmodel_name\u001b[49m\u001b[43m,\u001b[49m\u001b[43m \u001b[49m\n\u001b[32m     30\u001b[39m \u001b[43m    \u001b[49m\u001b[43minference_host_address\u001b[49m\u001b[43m=\u001b[49m\u001b[43minference_host_address\u001b[49m\u001b[43m,\u001b[49m\n\u001b[32m     31\u001b[39m \u001b[43m    \u001b[49m\u001b[43mzoo_url\u001b[49m\u001b[43m=\u001b[49m\u001b[43mzoo_url\u001b[49m\u001b[43m,\u001b[49m\n\u001b[32m     32\u001b[39m \u001b[43m    \u001b[49m\u001b[43mtoken\u001b[49m\u001b[43m=\u001b[49m\u001b[43mtoken\u001b[49m\u001b[43m,\u001b[49m\n\u001b[32m     33\u001b[39m \u001b[43m    \u001b[49m\u001b[43mdevice_type\u001b[49m\u001b[43m=\u001b[49m\u001b[43mdevice_type\u001b[49m\n\u001b[32m     34\u001b[39m \u001b[43m)\u001b[49m\n\u001b[32m     36\u001b[39m \u001b[38;5;28mprint\u001b[39m(\u001b[33m\"\u001b[39m\u001b[33mModel loaded\u001b[39m\u001b[33m\"\u001b[39m)\n\u001b[32m     38\u001b[39m \u001b[38;5;66;03m# create object tracker\u001b[39;00m\n",
      "\u001b[36mFile \u001b[39m\u001b[32m~/hailo_examples/degirum_env/lib/python3.11/site-packages/degirum/__init__.py:220\u001b[39m, in \u001b[36mload_model\u001b[39m\u001b[34m(model_name, inference_host_address, zoo_url, token, **kwargs)\u001b[39m\n\u001b[32m    196\u001b[39m \u001b[38;5;250m\u001b[39m\u001b[33;03m\"\"\"\u001b[39;00m\n\u001b[32m    197\u001b[39m \u001b[33;03mLoad a model from the model zoo for the inference.\u001b[39;00m\n\u001b[32m    198\u001b[39m \n\u001b[32m   (...)\u001b[39m\u001b[32m    217\u001b[39m \u001b[33;03m    An instance of [degirum.model.Model][] model handling object to be used for AI inferences.\u001b[39;00m\n\u001b[32m    218\u001b[39m \u001b[33;03m\"\"\"\u001b[39;00m\n\u001b[32m    219\u001b[39m zoo = ZooManager(inference_host_address, zoo_url, token)\n\u001b[32m--> \u001b[39m\u001b[32m220\u001b[39m \u001b[38;5;28;01mreturn\u001b[39;00m \u001b[43mzoo\u001b[49m\u001b[43m.\u001b[49m\u001b[43mload_model\u001b[49m\u001b[43m(\u001b[49m\u001b[43mmodel_name\u001b[49m\u001b[43m,\u001b[49m\u001b[43m \u001b[49m\u001b[43m*\u001b[49m\u001b[43m*\u001b[49m\u001b[43mkwargs\u001b[49m\u001b[43m)\u001b[49m\n",
      "\u001b[36mFile \u001b[39m\u001b[32m~/hailo_examples/degirum_env/lib/python3.11/site-packages/degirum/log.py:59\u001b[39m, in \u001b[36mlog_wrap.<locals>.wrap\u001b[39m\u001b[34m(*args, **kwargs)\u001b[39m\n\u001b[32m     57\u001b[39m \u001b[38;5;28;01mtry\u001b[39;00m:\n\u001b[32m     58\u001b[39m     logger.log(log_level, \u001b[33mf\u001b[39m\u001b[33m\"\u001b[39m\u001b[33m/ \u001b[39m\u001b[38;5;132;01m{\u001b[39;00mf.\u001b[34m__qualname__\u001b[39m\u001b[38;5;132;01m}\u001b[39;00m\u001b[33m\"\u001b[39m)\n\u001b[32m---> \u001b[39m\u001b[32m59\u001b[39m     \u001b[38;5;28;01mreturn\u001b[39;00m \u001b[43mf\u001b[49m\u001b[43m(\u001b[49m\u001b[43m*\u001b[49m\u001b[43margs\u001b[49m\u001b[43m,\u001b[49m\u001b[43m \u001b[49m\u001b[43m*\u001b[49m\u001b[43m*\u001b[49m\u001b[43mkwargs\u001b[49m\u001b[43m)\u001b[49m\n\u001b[32m     60\u001b[39m \u001b[38;5;28;01mfinally\u001b[39;00m:\n\u001b[32m     61\u001b[39m     t2 = time.time_ns()\n",
      "\u001b[36mFile \u001b[39m\u001b[32m~/hailo_examples/degirum_env/lib/python3.11/site-packages/degirum/zoo_manager.py:270\u001b[39m, in \u001b[36mZooManager.load_model\u001b[39m\u001b[34m(self, model_name, **kwargs)\u001b[39m\n\u001b[32m    208\u001b[39m \u001b[38;5;129m@log_wrap\u001b[39m\n\u001b[32m    209\u001b[39m \u001b[38;5;28;01mdef\u001b[39;00m\u001b[38;5;250m \u001b[39m\u001b[34mload_model\u001b[39m(\u001b[38;5;28mself\u001b[39m, model_name: \u001b[38;5;28mstr\u001b[39m, **kwargs) -> Model:\n\u001b[32m    210\u001b[39m \u001b[38;5;250m    \u001b[39m\u001b[33;03m\"\"\"Create and return the model handling object for given model name.\u001b[39;00m\n\u001b[32m    211\u001b[39m \n\u001b[32m    212\u001b[39m \u001b[33;03m    Args:\u001b[39;00m\n\u001b[32m   (...)\u001b[39m\u001b[32m    268\u001b[39m \n\u001b[32m    269\u001b[39m \u001b[33;03m    \"\"\"\u001b[39;00m\n\u001b[32m--> \u001b[39m\u001b[32m270\u001b[39m     model = \u001b[38;5;28;43mself\u001b[39;49m\u001b[43m.\u001b[49m\u001b[43m_zoo\u001b[49m\u001b[43m.\u001b[49m\u001b[43mload_model\u001b[49m\u001b[43m(\u001b[49m\u001b[43mmodel_name\u001b[49m\u001b[43m)\u001b[49m\n\u001b[32m    271\u001b[39m     \u001b[38;5;28;01mfor\u001b[39;00m key, value \u001b[38;5;129;01min\u001b[39;00m kwargs.items():\n\u001b[32m    272\u001b[39m         \u001b[38;5;28;01mif\u001b[39;00m \u001b[38;5;28mhasattr\u001b[39m(Model, key):\n",
      "\u001b[36mFile \u001b[39m\u001b[32m~/hailo_examples/degirum_env/lib/python3.11/site-packages/degirum/log.py:59\u001b[39m, in \u001b[36mlog_wrap.<locals>.wrap\u001b[39m\u001b[34m(*args, **kwargs)\u001b[39m\n\u001b[32m     57\u001b[39m \u001b[38;5;28;01mtry\u001b[39;00m:\n\u001b[32m     58\u001b[39m     logger.log(log_level, \u001b[33mf\u001b[39m\u001b[33m\"\u001b[39m\u001b[33m/ \u001b[39m\u001b[38;5;132;01m{\u001b[39;00mf.\u001b[34m__qualname__\u001b[39m\u001b[38;5;132;01m}\u001b[39;00m\u001b[33m\"\u001b[39m)\n\u001b[32m---> \u001b[39m\u001b[32m59\u001b[39m     \u001b[38;5;28;01mreturn\u001b[39;00m \u001b[43mf\u001b[49m\u001b[43m(\u001b[49m\u001b[43m*\u001b[49m\u001b[43margs\u001b[49m\u001b[43m,\u001b[49m\u001b[43m \u001b[49m\u001b[43m*\u001b[49m\u001b[43m*\u001b[49m\u001b[43mkwargs\u001b[49m\u001b[43m)\u001b[49m\n\u001b[32m     60\u001b[39m \u001b[38;5;28;01mfinally\u001b[39;00m:\n\u001b[32m     61\u001b[39m     t2 = time.time_ns()\n",
      "\u001b[36mFile \u001b[39m\u001b[32m~/hailo_examples/degirum_env/lib/python3.11/site-packages/degirum/_zoo_accessor.py:318\u001b[39m, in \u001b[36m_LocalInferenceLocalDirZooAccessor.load_model\u001b[39m\u001b[34m(self, model)\u001b[39m\n\u001b[32m    316\u001b[39m supported_device_types = \u001b[38;5;28mself\u001b[39m._model_supported_device_types(model_params)\n\u001b[32m    317\u001b[39m \u001b[38;5;28;01mif\u001b[39;00m \u001b[38;5;129;01mnot\u001b[39;00m supported_device_types:\n\u001b[32m--> \u001b[39m\u001b[32m318\u001b[39m     \u001b[38;5;28;01mraise\u001b[39;00m DegirumException(\n\u001b[32m    319\u001b[39m         \u001b[33mf\u001b[39m\u001b[33m\"\u001b[39m\u001b[33mModel \u001b[39m\u001b[33m'\u001b[39m\u001b[38;5;132;01m{\u001b[39;00mmodel\u001b[38;5;132;01m}\u001b[39;00m\u001b[33m'\u001b[39m\u001b[33m does not have any supported runtime/device combinations that will work on this system.\u001b[39m\u001b[33m\"\u001b[39m\n\u001b[32m    320\u001b[39m     )\n\u001b[32m    322\u001b[39m \u001b[38;5;28;01mreturn\u001b[39;00m _ClientModel(\n\u001b[32m    323\u001b[39m     model,\n\u001b[32m    324\u001b[39m     model_params,\n\u001b[32m    325\u001b[39m     supported_device_types,\n\u001b[32m    326\u001b[39m )\n",
      "\u001b[31mDegirumException\u001b[39m: Model 'squirrel_yolov11s--640x640_quant_hailort_multidevice_1' does not have any supported runtime/device combinations that will work on this system."
     ]
    }
   ],
   "source": [
    "import degirum as dg, degirum_tools\n",
    "import time\n",
    "import cv2\n",
    "import os\n",
    "\n",
    "inference_host_address = \"@local\"\n",
    "zoo_url = '/home/pi5two/hailo_examples/models'\n",
    "token=''\n",
    "device_type=['HAILORT/HAILO8L']\n",
    "\n",
    "# set the model name, video source, and list of classes you want to track\n",
    "# model_name = \"squirrel_yolov11s--640x640_quant_hailort_multidevice_1\"\n",
    "model_name = \"squirrel_yolov11s--640x640_quant_hailort_multidevice_1\"\n",
    "video_source = \"../assets/test_video_1.mp4\"\n",
    "class_list = [\"squirrel\"]\n",
    "\n",
    "# Initialize FPS\n",
    "prev_frame_time = 0\n",
    "new_frame_time = 0\n",
    "font = cv2.FONT_HERSHEY_SIMPLEX\n",
    "frame_count = 0\n",
    "\n",
    "print (\"starting Degirum script...\")\n",
    "\n",
    "# load model\n",
    "\n",
    "print(f\"Loading model\") \n",
    "model = dg.load_model(\n",
    "    model_name=model_name, \n",
    "    inference_host_address=inference_host_address,\n",
    "    zoo_url=zoo_url,\n",
    "    token=token,\n",
    "    device_type=device_type\n",
    ")\n",
    "\n",
    "print(\"Model loaded\")\n",
    "\n",
    "# create object tracker\n",
    "tracker = degirum_tools.ObjectTracker(\n",
    "    class_list=class_list,\n",
    "    track_thresh=0.35,\n",
    "    track_buffer=100,\n",
    "    match_thresh=0.9999,\n",
    "    trail_depth=20,\n",
    "    anchor_point=degirum_tools.AnchorPoint.BOTTOM_CENTER,\n",
    ")\n",
    "\n",
    "# attach object tracker to model\n",
    "degirum_tools.attach_analyzers(model, [tracker])\n",
    "\n",
    "print(\"object tracker attached\")\n",
    "\n",
    "# run AI inference on video stream and display the results\n",
    "print(\"Running inference\")\n",
    "for inference_result in degirum_tools.predict_stream(model, video_source):\n",
    "    new_frame_time = time.time()\n",
    "    if prev_frame_time !=0:\n",
    "        fps = 1 / (new_frame_time - prev_frame_time)\n",
    "    else: \n",
    "        fps = 0.0\n",
    "    prev_frame_time = new_frame_time\n",
    "    frame_count += 1\n",
    "    print(f\"Processed frame {frame_count}, Current FPS: {fps:.2f}\", end='\\r')\n",
    "\n",
    "print(f\"\\n--- Video processing finished. Total frames: {frame_count} ---\")\n"
   ]
  },
  {
   "cell_type": "code",
   "execution_count": null,
   "metadata": {},
   "outputs": [],
   "source": []
  }
 ],
 "metadata": {
  "kernelspec": {
   "display_name": "Python 3 (ipykernel)",
   "language": "python",
   "name": "python3"
  },
  "language_info": {
   "codemirror_mode": {
    "name": "ipython",
    "version": 3
   },
   "file_extension": ".py",
   "mimetype": "text/x-python",
   "name": "python",
   "nbconvert_exporter": "python",
   "pygments_lexer": "ipython3",
   "version": "3.11.2"
  }
 },
 "nbformat": 4,
 "nbformat_minor": 4
}
