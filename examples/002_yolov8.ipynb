{
 "cells": [
  {
   "cell_type": "markdown",
   "metadata": {},
   "source": [
    "### Running YOLO Models on Hailo\n",
    "This notebook demonstrates running different flavors of YOLO models (e.g., image classification, object detection, pose estimation, and segmentation) \n",
    "using a unified codebase with DeGirum PySDK. Key features include:\n",
    "\n",
    "- Unified handling of YOLO model variants with minimal changes to the code.\n",
    "- Flexible selection of inference host (cloud or local) and model zoo location.\n",
    "- Seamless output visualization, regardless of the specific YOLO model used.\n",
    "\n",
    "Simply uncomment a model of your choice, provide the necessary configurations, and run the code block \n",
    "to perform inference and visualize the results."
   ]
  },
  {
   "cell_type": "code",
   "execution_count": null,
   "metadata": {},
   "outputs": [
    {
     "name": "stdout",
     "output_type": "stream",
     "text": [
      " Running inference using 'yolov8n_relu6_coco--640x640_quant_hailort_hailo8l_1' on image source '../assets/ThreePersons.jpg'\n",
      "- bbox: [50.766868591308594, 11.557273864746094, 260.00616455078125, 422.25885009765625]\n",
      "  category_id: 0\n",
      "  label: person\n",
      "  score: 0.9210436940193176\n",
      "- bbox: [425.75750732421875, 20.109336853027344, 639.944091796875, 353.2565612792969]\n",
      "  category_id: 0\n",
      "  label: person\n",
      "  score: 0.888812780380249\n",
      "- bbox: [204.74891662597656, 45.846923828125, 453.3245544433594, 401.99920654296875]\n",
      "  category_id: 0\n",
      "  label: person\n",
      "  score: 0.8193221092224121\n",
      "\n",
      "Press 'x' or 'q' to stop.\n"
     ]
    },
    {
     "name": "stderr",
     "output_type": "stream",
     "text": [
      "qt.qpa.plugin: Could not find the Qt platform plugin \"wayland\" in \"/home/pi5two/hailo_examples/degirum_env/lib/python3.11/site-packages/cv2/qt/plugins\"\n"
     ]
    }
   ],
   "source": [
    "import degirum as dg, degirum_tools\n",
    "\n",
    "inference_host_address = \"@local\"\n",
    "zoo_url = 'degirum/hailo'\n",
    "token=''\n",
    "device_type=['HAILORT/HAILO8L']\n",
    "\n",
    "# choose a model to run inference on by uncommenting one of the following lines\n",
    "model_name = \"yolov8n_relu6_coco--640x640_quant_hailort_hailo8l_1\"\n",
    "# model_name = \"yolov8n_relu6_coco_pose--640x640_quant_hailort_hailo8l_1\"\n",
    "# model_name = \"yolov8n_relu6_coco_seg--640x640_quant_hailort_hailo8l_1\"\n",
    "# model_name = \"yolov8s_silu_imagenet--224x224_quant_hailort_hailo8l_1\"\n",
    "\n",
    "# choose image source\n",
    "image_source = \"../assets/ThreePersons.jpg\"\n",
    "\n",
    "# load AI model\n",
    "model = dg.load_model(\n",
    "    model_name=model_name,\n",
    "    inference_host_address=inference_host_address,\n",
    "    zoo_url=zoo_url,\n",
    "    token=token,\n",
    "    device_type=device_type\n",
    ")\n",
    "\n",
    "# perform AI model inference on given image source\n",
    "print(f\" Running inference using '{model_name}' on image source '{image_source}'\")\n",
    "inference_result = model(image_source)\n",
    "\n",
    "# print('Inference Results \\n', inference_result)  # numeric results\n",
    "print(inference_result)\n",
    "print(\"Press 'x' or 'q' to stop.\")\n",
    "\n",
    "# show results of inference\n",
    "with degirum_tools.Display(\"AI Camera\") as output_display:\n",
    "    output_display.show_image(inference_result.image_overlay)"
   ]
  },
  {
   "cell_type": "code",
   "execution_count": null,
   "metadata": {},
   "outputs": [],
   "source": []
  }
 ],
 "metadata": {
  "kernelspec": {
   "display_name": "Python 3 (ipykernel)",
   "language": "python",
   "name": "python3"
  },
  "language_info": {
   "codemirror_mode": {
    "name": "ipython",
    "version": 3
   },
   "file_extension": ".py",
   "mimetype": "text/x-python",
   "name": "python",
   "nbconvert_exporter": "python",
   "pygments_lexer": "ipython3",
   "version": "3.11.2"
  }
 },
 "nbformat": 4,
 "nbformat_minor": 4
}
